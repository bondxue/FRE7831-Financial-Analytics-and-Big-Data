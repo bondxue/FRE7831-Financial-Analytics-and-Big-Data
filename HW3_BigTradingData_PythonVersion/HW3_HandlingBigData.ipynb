{
 "cells": [
  {
   "cell_type": "code",
   "execution_count": 4,
   "metadata": {
    "scrolled": true
   },
   "outputs": [],
   "source": [
    "import pandas as pd\n",
    "file = pd.read_csv(\"C:/Users/mengh/Dropbox/FRE7831FinancialAnalyticsBigData/Homework3/Homework3/SPY_May_2012.csv\")\n",
    "trade = file[file.Type == 'Trade'].reset_index(drop=True)[['Date[G]','Time[G]','Price',\"Volume\"]]\n",
    "trade['date'] = pd.to_datetime(trade['Date[G]']+trade['Time[G]'],format='%d-%b-%Y%H:%M:%S.%f')\n",
    "trade.set_index('date', inplace=True)"
   ]
  },
  {
   "cell_type": "code",
   "execution_count": 5,
   "metadata": {},
   "outputs": [],
   "source": [
    "# calculate average volume from 05/01/2012 to 05/20/2012\n",
    "sample = trade['2012-05-01':'2012-05-20']\n",
    "sample = sample.Volume.resample('15min').sum()\n",
    "time_points = ['09:30:00', '09:45:00']+[str(h)+\":\"+str(min).rjust(2,\"0\")+\":00\" for h in range(10,16) for min in [0,15,30,45]]\n",
    "volume = [int(sample[sample.index[sample.index.indexer_between_time(t,t)]].mean() * 18/14) for t in time_points]"
   ]
  },
  {
   "cell_type": "code",
   "execution_count": 6,
   "metadata": {},
   "outputs": [],
   "source": [
    "# calculate price for 05/21/2012\n",
    "price_points = ['2012-05-21 '+t for t in time_points+['16:00:00']]\n",
    "price = [trade[price_points[i]:price_points[i+1]].Price[0] for i in range(len(price_points)-1)]"
   ]
  },
  {
   "cell_type": "code",
   "execution_count": 12,
   "metadata": {},
   "outputs": [
    {
     "name": "stdout",
     "output_type": "stream",
     "text": [
      "          Quantity    Price\n",
      "Time                       \n",
      "09:30:00      6921  130.600\n",
      "09:45:00     17298  130.350\n",
      "10:00:00      8537  130.420\n",
      "10:15:00      7644  130.400\n",
      "10:30:00     37801  130.420\n",
      "10:45:00     36537  130.570\n",
      "11:00:00    154480  130.620\n",
      "11:15:00    168200  130.590\n",
      "11:30:00    205446  130.520\n",
      "11:45:00    179876  130.530\n",
      "12:00:00    564133  130.390\n",
      "12:15:00    669731  130.200\n",
      "12:30:00   1120391  130.330\n",
      "12:45:00    622959  130.180\n",
      "13:00:00   1079844  130.170\n",
      "13:15:00    755971  130.250\n",
      "13:30:00  10696640  130.160\n",
      "13:45:00   8907871  130.480\n",
      "14:00:00  10631856  130.350\n",
      "14:15:00   7968852  130.500\n",
      "14:30:00   7116972  130.925\n",
      "14:45:00   6311327  131.120\n",
      "15:00:00   6817398  131.350\n",
      "15:15:00   5733615  131.200\n",
      "15:30:00   6172092  131.140\n",
      "15:45:00   7280017  131.080\n"
     ]
    }
   ],
   "source": [
    "#output into csv \n",
    "outputs = pd.DataFrame({'Time':time_points,'Quantity':volume,'Price':price}).set_index('Time',drop=True)\n",
    "outputs.to_csv(\"C:/Users/mengh/Dropbox/FRE7831FinancialAnalyticsBigData/Homework3/Homework3/outputs.csv\")\n",
    "print(outputs)"
   ]
  },
  {
   "cell_type": "code",
   "execution_count": 337,
   "metadata": {},
   "outputs": [],
   "source": []
  }
 ],
 "metadata": {
  "kernelspec": {
   "display_name": "Python 3",
   "language": "python",
   "name": "python3"
  },
  "language_info": {
   "codemirror_mode": {
    "name": "ipython",
    "version": 3
   },
   "file_extension": ".py",
   "mimetype": "text/x-python",
   "name": "python",
   "nbconvert_exporter": "python",
   "pygments_lexer": "ipython3",
   "version": "3.6.7"
  },
  "varInspector": {
   "cols": {
    "lenName": 16,
    "lenType": 16,
    "lenVar": 40
   },
   "kernels_config": {
    "python": {
     "delete_cmd_postfix": "",
     "delete_cmd_prefix": "del ",
     "library": "var_list.py",
     "varRefreshCmd": "print(var_dic_list())"
    },
    "r": {
     "delete_cmd_postfix": ") ",
     "delete_cmd_prefix": "rm(",
     "library": "var_list.r",
     "varRefreshCmd": "cat(var_dic_list()) "
    }
   },
   "types_to_exclude": [
    "module",
    "function",
    "builtin_function_or_method",
    "instance",
    "_Feature"
   ],
   "window_display": false
  }
 },
 "nbformat": 4,
 "nbformat_minor": 2
}
